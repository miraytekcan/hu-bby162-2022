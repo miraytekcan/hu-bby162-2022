{
  "nbformat": 4,
  "nbformat_minor": 0,
  "metadata": {
    "colab": {
      "name": "proje04.ipynb",
      "provenance": [],
      "collapsed_sections": [],
      "authorship_tag": "ABX9TyPaHzxuqVUHG2O3TnJBiFSc",
      "include_colab_link": true
    },
    "kernelspec": {
      "name": "python3",
      "display_name": "Python 3"
    },
    "language_info": {
      "name": "python"
    }
  },
  "cells": [
    {
      "cell_type": "markdown",
      "metadata": {
        "id": "view-in-github",
        "colab_type": "text"
      },
      "source": [
        "<a href=\"https://colab.research.google.com/github/miraytekcan/hu-bby162-2022/blob/main/proje04.ipynb\" target=\"_parent\"><img src=\"https://colab.research.google.com/assets/colab-badge.svg\" alt=\"Open In Colab\"/></a>"
      ]
    },
    {
      "cell_type": "code",
      "execution_count": null,
      "metadata": {
        "id": "KM35aSz8y9Ec"
      },
      "outputs": [],
      "source": [
        "dosya = \"/content/drive/MyDrive/veritabanı.txt\"\n",
        "\n",
        "print(\"Kütüphane Katalog Sistemi\")\n",
        "name = input(\"Lütfen Adınızı Giriniz: \")\n",
        "print(\"Kütüphane Katoloğuna Hoş Geldiniz,\" , name)\n",
        "\n",
        "def KitapListele():\n",
        "  f = open(dosya, 'r')\n",
        "  for line in f.readlines():\n",
        "    print(line)\n",
        "  f.close()\n",
        "\n",
        "def KitapKaydetme():\n",
        "  KitabınAdı = input(\"Kitabın Adı: \")\n",
        "  KitabınYazarı = input(\"Kitabın Yazarı: \")\n",
        "  KitabınYayınevi = input(\"Kitabın Yayınevi: \")\n",
        "  KitapIBSN = input(\"Kitabın ISBN Bilgileri: \")\n",
        "  KitapBasım = input(\"Kitabın Basıldığı Yıl: \")\n",
        "  f = open(dosya, 'a' )\n",
        "  f.write(KitabınAdı + \" , \" + KitabınYazarı + \" , \" + KitabınYayınevi + \" , \" + KitapBasım + \" , \" + KitapIBSN + '\\n')\n",
        "  print(\"Kitap kayıt işlemi başarıyla gerçekleştirildi.\")\n",
        "  f.close()\n",
        "\n",
        "def Arama():\n",
        "  file_path = \"/content/drive/MyDrive/veritabanı.txt\"\n",
        "  word = input(\"Aradığınız eseri giriniz: \")\n",
        "  with open(file_path, 'r') as file:\n",
        "        içerik = file.read()\n",
        "        küçük = içerik.lower()\n",
        "        if word in küçük:\n",
        "            print('Aradığınız kitap katalogta bulunmaktadır.')\n",
        "            print(içerik)\n",
        "        else:\n",
        "            print('Aradığınız kitap katalogta bulunmamaktadır.')\n",
        "   \n",
        "def menu():\n",
        " secimYapma = [\"1\", \"2\", \"3\", \"0\"] \n",
        " while secimYapma:\n",
        "   seçimÇalıştır = input(\"1)Kayıtları listele - 2)Yeni kayıt ekle - 3)Kayıt ara - 0)Çıkış \")  \n",
        "   if seçimÇalıştır == secimYapma[0]:\n",
        "      print(\"Kütüphane katoloğuna hoşgeldiniz!\")\n",
        "      KitapListele()\n",
        "   elif seçimÇalıştır == secimYapma[1]:\n",
        "      print(\"Kayıt işlemi için aşağıdaki adımları gerçekleştirin.\")\n",
        "      KitapKaydetme()\n",
        "   elif seçimÇalıştır == secimYapma[2]:\n",
        "      print(\"Arama bölümüne giriş yaptınız.\") \n",
        "      Arama()\n",
        "   elif seçimÇalıştır == \"0\":\n",
        "      print(\"Sistemden çıkış yapıldı...\")\n",
        "      break\n",
        "   else:\n",
        "      print(\"Seçtiğiniz komut tanımlı değil!\")\n",
        "menu()"
      ]
    }
  ]
}