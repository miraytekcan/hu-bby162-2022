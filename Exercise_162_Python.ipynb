{
  "nbformat": 4,
  "nbformat_minor": 0,
  "metadata": {
    "colab": {
      "name": "Exercise-162-Python.ipynb",
      "provenance": [],
      "authorship_tag": "ABX9TyMprDajugEGHAymF044s7Oo",
      "include_colab_link": true
    },
    "kernelspec": {
      "name": "python3",
      "display_name": "Python 3"
    },
    "language_info": {
      "name": "python"
    }
  },
  "cells": [
    {
      "cell_type": "markdown",
      "metadata": {
        "id": "view-in-github",
        "colab_type": "text"
      },
      "source": [
        "<a href=\"https://colab.research.google.com/github/miraytekcan/hu-bby162-2022/blob/main/Exercise_162_Python.ipynb\" target=\"_parent\"><img src=\"https://colab.research.google.com/assets/colab-badge.svg\" alt=\"Open In Colab\"/></a>"
      ]
    },
    {
      "cell_type": "code",
      "source": [
        "print(\"Hello, World!\")"
      ],
      "metadata": {
        "colab": {
          "base_uri": "https://localhost:8080/"
        },
        "id": "vLF39wCbYf2B",
        "outputId": "cb5c5785-2b5b-40f2-b845-ad7abd93f79e"
      },
      "execution_count": null,
      "outputs": [
        {
          "output_type": "stream",
          "name": "stdout",
          "text": [
            "Hello, World!\n"
          ]
        }
      ]
    },
    {
      "cell_type": "code",
      "source": [
        "x = \"Miray\"\n",
        "print(\"My name is \" + x)"
      ],
      "metadata": {
        "colab": {
          "base_uri": "https://localhost:8080/"
        },
        "id": "FL8GLf3nYUcf",
        "outputId": "8fdc8c37-ea39-417d-c999-4da335795a53"
      },
      "execution_count": null,
      "outputs": [
        {
          "output_type": "stream",
          "name": "stdout",
          "text": [
            "My name is Miray\n"
          ]
        }
      ]
    },
    {
      "cell_type": "code",
      "execution_count": null,
      "metadata": {
        "colab": {
          "base_uri": "https://localhost:8080/"
        },
        "id": "LQeHsBY7XmjA",
        "outputId": "809569b9-ebdd-499e-87ff-53a6e2859829"
      },
      "outputs": [
        {
          "output_type": "stream",
          "name": "stdout",
          "text": [
            "Enter the year: 2022\n",
            "Enter your age: 19\n",
            "Your birthday: 2003\n"
          ]
        }
      ],
      "source": [
        "currentYear = input(\"Enter the year: \")\n",
        "age = input(\"Enter your age: \")\n",
        "print(\"Your birthday: \" + str(int(currentYear)-int(age)))"
      ]
    },
    {
      "cell_type": "code",
      "source": [
        "thisYear = input(\"Enter the year: \")\n",
        "birthDate = input(\"Enter your birth year: \")\n",
        "\n",
        "thisYear = int(thisYear)\n",
        "birthDate = int(birthDate)\n",
        "\n",
        "age = thisYear - birthDate \n",
        "\n",
        "print(\"Your age: \" + str(age))"
      ],
      "metadata": {
        "colab": {
          "base_uri": "https://localhost:8080/"
        },
        "id": "L2eDojmaX0_y",
        "outputId": "7720ad2b-ca12-4bd5-bea5-616b2094d402"
      },
      "execution_count": null,
      "outputs": [
        {
          "output_type": "stream",
          "name": "stdout",
          "text": [
            "Enter the year: 2022\n",
            "Enter your birth year: 2003\n",
            "Your age: 19\n"
          ]
        }
      ]
    },
    {
      "cell_type": "code",
      "source": [
        "urunAdi = \"Bisiklet\"\n",
        "urunBedeliEuro = 850\n",
        "EuroToTL = 7\n",
        "urunAdet = 3\n",
        "pesinAdetIndirimTL = 500\n",
        "\n",
        "hesapla = ((urunBedeliEuro * urunAdet) * EuroToTL) - pesinAdetIndirimTL\n",
        "print(hesapla)\n",
        "str(hesapla)\n",
        "print(urunAdi, hesapla)"
      ],
      "metadata": {
        "colab": {
          "base_uri": "https://localhost:8080/"
        },
        "id": "97TX3bx5YE84",
        "outputId": "99abc793-a71b-42fc-f0cb-67f5b33546ef"
      },
      "execution_count": null,
      "outputs": [
        {
          "output_type": "stream",
          "name": "stdout",
          "text": [
            "17350\n",
            "Bisiklet 17350\n"
          ]
        }
      ]
    },
    {
      "cell_type": "code",
      "metadata": {
        "id": "chsHnUn9vWDA",
        "colab": {
          "base_uri": "https://localhost:8080/"
        },
        "outputId": "96a03bf8-9aa5-43cb-8ac1-f87b3c126105"
      },
      "source": [
        "#Toplam satın alma bedeli ile bütçenizi karşılaştırın. Satın alma bedelini ve bütçenizi ekrana yazdırın. Ödeme bütçenizi aşıyorsa ekrana \"False\", aşmıyorsa \"True\" yazdırın.  \n",
        "urunAdi = \"Bisiklet\"\n",
        "urunBedeliEuro = 850\n",
        "kurEuro = 7\n",
        "urunAdet = 3\n",
        "pesinAdetIndirimTL = 500\n",
        "butce = 15000\n",
        "\n",
        "hesapla = ((urunBedeliEuro * urunAdet) * kurEuro) - pesinAdetIndirimTL\n",
        "butceTamam = butce == hesapla \n",
        "\n",
        "print(hesapla)\n",
        "print(butceTamam)\n"
      ],
      "execution_count": null,
      "outputs": [
        {
          "output_type": "stream",
          "name": "stdout",
          "text": [
            "17350\n",
            "False\n"
          ]
        }
      ]
    },
    {
      "cell_type": "code",
      "source": [
        "urunAdi = \"Bisiklet\"\n",
        "urunBedeliEuro = 850\n",
        "kurEuro = 10\n",
        "urunAdet = 3\n",
        "pesinAdetIndirimTL = 500\n",
        "butce = 15000\n",
        "\n",
        "hesapla = ((urunBedeliEuro * urunAdet) * kurEuro) - pesinAdetIndirimTL\n",
        "butceTamam = butce > hesapla \n",
        "print(hesapla, \"TL\")\n",
        "print(\"Alışveriş bütçeme uygun mu? \" + str(butceTamam))"
      ],
      "metadata": {
        "colab": {
          "base_uri": "https://localhost:8080/"
        },
        "id": "fNb9acNchiFW",
        "outputId": "b6eccff2-dd3f-481e-ad6b-45ef2e35e921"
      },
      "execution_count": null,
      "outputs": [
        {
          "output_type": "stream",
          "name": "stdout",
          "text": [
            "25000 TL\n",
            "Alışveriş bütçeme uygun mu? False\n"
          ]
        }
      ]
    },
    {
      "cell_type": "code",
      "source": [
        "urunAdi = \"iPhone 13 Starlight 128 GB:\"\n",
        "urunBedeliDolar = 799\n",
        "kurDolar = 14.06\n",
        "urunAdet = input(\"Ürün adedini giriniz: \")\n",
        "taxVergi = 2212                                                                     \n",
        "butce = 15000\n",
        "\n",
        "hesapla = ((urunBedeliDolar * int(urunAdet)) * kurDolar) + taxVergi\n",
        "butceTamam = butce == hesapla \n",
        "print(urunAdi, hesapla, \"TL\")\n",
        "print(\"Alışveriş bütçeme uygun mu? \" + str(butceTamam))"
      ],
      "metadata": {
        "colab": {
          "base_uri": "https://localhost:8080/"
        },
        "id": "sPq8MDGqilxW",
        "outputId": "a551eb23-02e8-4c81-ad13-4bda7582f0c2"
      },
      "execution_count": 1,
      "outputs": [
        {
          "output_type": "stream",
          "name": "stdout",
          "text": [
            "Ürün adedini giriniz: 1\n",
            "iPhone 13 Starlight 128 GB: 13445.94 TL\n",
            "Alışveriş bütçeme uygun mu? False\n"
          ]
        }
      ]
    },
    {
      "cell_type": "code",
      "source": [
        "username = \"blondswift\"\n",
        "password = \"13\"\n",
        "typeuser = input(\"Enter your username: \")\n",
        "typepass = input(\"Enter your password: \")\n",
        "print(typeuser==username)\n",
        "print(typepass==password)"
      ],
      "metadata": {
        "colab": {
          "base_uri": "https://localhost:8080/"
        },
        "id": "M7Kyvvc_lXUg",
        "outputId": "e1b66fc4-56de-4588-e274-fbd8ea804472"
      },
      "execution_count": null,
      "outputs": [
        {
          "output_type": "stream",
          "name": "stdout",
          "text": [
            "Enter your username: ljlkjlj\n",
            "Enter your password: jnjknl\n",
            "False\n",
            "False\n"
          ]
        }
      ]
    },
    {
      "cell_type": "code",
      "source": [
        "yaşLimit = 21\n",
        "yaş = int(input(\"Yaşınızı giriniz: \"))\n",
        "kontrol = yaş >= yaşLimit\n",
        "print(\"Amerika'da alkol alabilir: \" + str(kontrol))"
      ],
      "metadata": {
        "colab": {
          "base_uri": "https://localhost:8080/"
        },
        "id": "gDMJhEWkpqZk",
        "outputId": "f1bbdbb4-3cd5-4eba-b44a-36c8e5f764d7"
      },
      "execution_count": null,
      "outputs": [
        {
          "output_type": "stream",
          "name": "stdout",
          "text": [
            "Yaşınızı giriniz: 19\n",
            "Amerika'da alkol alabilir: False\n"
          ]
        }
      ]
    },
    {
      "cell_type": "code",
      "source": [
        "TSspeech = \"As the first woman to win Album of the Year at the Grammys twice, I want to say to all the young women out there, there are going to be people along the way who will try to undercut your success or take credit for your accomplishments or your fame, but, if you just focus on the work and you don't let those people sidetrack you, someday when you get where you're going you'll look around and you will know that it was you and the people who love you who put you there. And that will be the greatest feeling in the world. Thank you for this moment.\"\n",
        "print(TSspeech)\n",
        "summary = TSspeech[:59] + \"click for more...\"\n",
        "print(summary)"
      ],
      "metadata": {
        "colab": {
          "base_uri": "https://localhost:8080/"
        },
        "id": "5oyw74ZJxdpp",
        "outputId": "7a853877-3c02-4dcd-9585-816cd35b3ac7"
      },
      "execution_count": null,
      "outputs": [
        {
          "output_type": "stream",
          "name": "stdout",
          "text": [
            "As the first woman to win Album of the Year at the Grammys twice, I want to say to all the young women out there, there are going to be people along the way who will try to undercut your success or take credit for your accomplishments or your fame, but, if you just focus on the work and you don't let those people sidetrack you, someday when you get where you're going you'll look around and you will know that it was you and the people who love you who put you there. And that will be the greatest feeling in the world. Thank you for this moment.\n",
            "As the first woman to win Album of the Year at the Grammys click for more...\n"
          ]
        }
      ]
    },
    {
      "cell_type": "code",
      "source": [
        "metin = \"folklore is the best album ever!\"\n",
        "arama = input(\"Arama yapılacak kelimeyi giriniz: \")\n",
        "sonuc = arama in metin\n",
        "print(\"Aradığınız kelime var: \" + str(sonuc))"
      ],
      "metadata": {
        "colab": {
          "base_uri": "https://localhost:8080/"
        },
        "id": "FMn6LXpHy_ms",
        "outputId": "803c2e53-d976-41f4-83b2-984505210099"
      },
      "execution_count": null,
      "outputs": [
        {
          "output_type": "stream",
          "name": "stdout",
          "text": [
            "Arama yapılacak kelimeyi giriniz: evermore\n",
            "Aradığınız kelime var: False\n"
          ]
        }
      ]
    },
    {
      "cell_type": "code",
      "source": [
        "#Girilen kelime 20 karakterden az ise false mesajı versin.. \n",
        "girilen = input(\"Enter your text here: \")\n",
        "print(\"Your text: \" + girilen)\n",
        "girilenText = len(girilen)\n",
        "print(girilenText)\n",
        "kontrol = girilenText > 10\n",
        "print(kontrol)"
      ],
      "metadata": {
        "colab": {
          "base_uri": "https://localhost:8080/"
        },
        "id": "YjXq3m2h0cW4",
        "outputId": "7f425fcc-178a-4ef5-c441-9c915d2f39a5"
      },
      "execution_count": null,
      "outputs": [
        {
          "output_type": "stream",
          "name": "stdout",
          "text": [
            "Enter your text here: In less than 3 years, Taylor Swift has broken the record for the biggest female decade in Spotify history with 16.5 billion streams\n",
            "Your text: In less than 3 years, Taylor Swift has broken the record for the biggest female decade in Spotify history with 16.5 billion streams\n",
            "131\n",
            "True\n"
          ]
        }
      ]
    },
    {
      "cell_type": "code",
      "source": [
        "anahtarKelime = \"Reputation\"\n",
        "arananKelime = \"reputation\"\n",
        "print(anahtarKelime.lower() == arananKelime)\n",
        "print(anahtarKelime.lower())"
      ],
      "metadata": {
        "colab": {
          "base_uri": "https://localhost:8080/"
        },
        "id": "FBXgZL4E3anK",
        "outputId": "f553163c-0389-4488-f92c-33cdb27964ea"
      },
      "execution_count": null,
      "outputs": [
        {
          "output_type": "stream",
          "name": "stdout",
          "text": [
            "True\n",
            "reputation\n"
          ]
        }
      ]
    },
    {
      "cell_type": "code",
      "source": [
        "characterLimit = 22\n",
        "text = input(\"Enter your text here please: \")\n",
        "print(\"Your text: \"+ text)\n",
        "print(\"Your chracter limit is %d.\"% characterLimit)\n",
        "limitCalc = len(text)\n",
        "print(\"Length of your text is %d.\"% limitCalc)\n",
        "control = characterLimit < limitCalc\n",
        "print(\"Result of the limit control: \"+ str(control))"
      ],
      "metadata": {
        "colab": {
          "base_uri": "https://localhost:8080/"
        },
        "id": "vd4LVv9r3H17",
        "outputId": "8fea7ba8-d2dd-42c6-beb3-780c93e36079"
      },
      "execution_count": null,
      "outputs": [
        {
          "output_type": "stream",
          "name": "stdout",
          "text": [
            "Enter your text here please: The ten-minute version of All Too Well is heartbreaking.\n",
            "Your text: The ten-minute version of All Too Well is heartbreaking.\n",
            "Your chracter limit is 22.\n",
            "Length of your text is 56.\n",
            "Result of the limit control: True\n"
          ]
        }
      ]
    }
  ]
}