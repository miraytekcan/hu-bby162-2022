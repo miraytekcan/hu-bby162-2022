{
  "nbformat": 4,
  "nbformat_minor": 0,
  "metadata": {
    "colab": {
      "name": "proje03.ipynb",
      "provenance": [],
      "collapsed_sections": [],
      "authorship_tag": "ABX9TyPgHAyxbGvHJ2WRwREd6DuQ",
      "include_colab_link": true
    },
    "kernelspec": {
      "name": "python3",
      "display_name": "Python 3"
    },
    "language_info": {
      "name": "python"
    }
  },
  "cells": [
    {
      "cell_type": "markdown",
      "metadata": {
        "id": "view-in-github",
        "colab_type": "text"
      },
      "source": [
        "<a href=\"https://colab.research.google.com/github/miraytekcan/hu-bby162-2022/blob/main/proje03.ipynb\" target=\"_parent\"><img src=\"https://colab.research.google.com/assets/colab-badge.svg\" alt=\"Open In Colab\"/></a>"
      ]
    },
    {
      "cell_type": "code",
      "source": [
        "#Sadece bonus özelliği yapamadım:(\n",
        "class Soru:\n",
        "     def __init__(self, prompt, answer):\n",
        "          self.prompt = prompt\n",
        "          self.answer = answer\n",
        "\n",
        "def testeGiriş():\n",
        "  giriş = print(\"5 Soruluk mini test oyununa giriş yapmak üzeresiniz...\")\n",
        "  isim = input(\"Başlamak için lütfen adınızı giriniz: \")\n",
        "  hello = print(\"5 soruluk kısa test oyununa hoşgeldiniz\", isim,\"!\")\n",
        "  başla = print(\"Başlamaya hazırsın,\", isim, \", beş soruluk bu testte soruların cevabı Evet ya da Hayır!\")\n",
        "  \n",
        "soru_prompts = [\n",
        "     \"1. 2009 yapımı Avatar, gişede tüm zamanların en çok hasılat yapan filmidir. \\n(a) Evet \\n(b) Hayır \",\n",
        "     \"2. Meşhur 'Alfredo' sosunun orijini Meksika'ya dayanır. \\n(a) Evet \\n(b) Hayır \",\n",
        "     \"3. Spotify'da en çok dinlenen şarkı 3 milyardan fazla dinleme sayısı ile Shape of You şarkısıdır. \\n(a) Evet \\n(b) Hayır \",\n",
        "     \"4.'Fajita' bir İtalyan yemeğidir. \\n(a) Evet \\n(b) Hayır \",\n",
        "     \"5. Billboard Hot 100 şarkı listesinde #1 numara olabilmiş en uzun şarkı 10 dakika 13 saniye uzunluğundadır. \\n(a) Evet \\n(b) Hayır \",\n",
        "]\n",
        "\n",
        "sorular = [\n",
        "     Soru(soru_prompts[0], \"a\"),\n",
        "     Soru(soru_prompts[1], \"b\"),\n",
        "     Soru(soru_prompts[2], \"a\"),\n",
        "     Soru(soru_prompts[3], \"b\"),\n",
        "     Soru(soru_prompts[4], \"a\"),\n",
        "]\n",
        "\n",
        "def run_quiz(sorular):\n",
        "     skor = 0\n",
        "     for soru in sorular:\n",
        "          cevap = input(soru.prompt)\n",
        "          if cevap == soru.answer:\n",
        "               skor += 1\n",
        "        \n",
        "          else:\n",
        "            print(\"Lütfen Evet için 'a' , Hayır için 'b' yazınız!\")\n",
        "     \n",
        "     yüzde = print(\"Bu test sonucunda yüzde\", skor*100/5, \"aldınız!\")\n",
        "     print(\"Sonuç:\", len(sorular), \"soruda verdiğiniz doğru yanıt sayısı;\", skor, \"doğru\")\n",
        "     \n",
        "     if skor*100/5 >= 60:\n",
        "       print(\"Tebrikler, bu testten geçtiniz...\")\n",
        "     elif skor*100/5 <= 60:\n",
        "       print(\"Üzgünüm, bu testten kaldınız...\")\n",
        "       tekrar = input(\"Tekrar denemek ister misiniz? a= Evet , b= Hayır \")\n",
        "       if tekrar in \"a\":\n",
        "        run_quiz(sorular)\n",
        "       if tekrar in \"b\":\n",
        "        print(\"Başka bir testte görüşmek üzere... Hoşcakalın!\")\n",
        "\n",
        "        \n",
        "testeGiriş()\n",
        "run_quiz(sorular)"
      ],
      "metadata": {
        "id": "n61W9ugzesR-"
      },
      "execution_count": null,
      "outputs": []
    }
  ]
}