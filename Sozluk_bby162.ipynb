{
  "nbformat": 4,
  "nbformat_minor": 0,
  "metadata": {
    "colab": {
      "name": "Sozluk-bby162.ipynb",
      "provenance": [],
      "authorship_tag": "ABX9TyNbFn659mqOAYZxvN4XAoGZ",
      "include_colab_link": true
    },
    "kernelspec": {
      "name": "python3",
      "display_name": "Python 3"
    },
    "language_info": {
      "name": "python"
    }
  },
  "cells": [
    {
      "cell_type": "markdown",
      "metadata": {
        "id": "view-in-github",
        "colab_type": "text"
      },
      "source": [
        "<a href=\"https://colab.research.google.com/github/miraytekcan/hu-bby162-2022/blob/main/Sozluk_bby162.ipynb\" target=\"_parent\"><img src=\"https://colab.research.google.com/assets/colab-badge.svg\" alt=\"Open In Colab\"/></a>"
      ]
    },
    {
      "cell_type": "code",
      "execution_count": 1,
      "metadata": {
        "colab": {
          "base_uri": "https://localhost:8080/"
        },
        "id": "jcbTSaWJjIsy",
        "outputId": "73045179-27f8-4663-9253-0f51ec75eef4"
      },
      "outputs": [
        {
          "output_type": "stream",
          "name": "stdout",
          "text": [
            "{'apple': 'elma', 'watermelon': 'karpuz'}\n",
            "Kelimeyi giriniz: watermelon\n",
            "watermelon\n",
            "watermelon\n",
            "Sözlükte bu kelime var mı? True\n",
            "karpuz\n"
          ]
        }
      ],
      "source": [
        "#sözlük oluşturuluyor \n",
        "sozluk = {\"apple\":\"elma\", \"watermelon\":\"karpuz\"}\n",
        "print(sozluk)\n",
        "\n",
        "#arama yapılacak kelime alınıyor\n",
        "arama = input(\"Kelimeyi giriniz: \")\n",
        "print(arama.lower())\n",
        "print(arama)\n",
        "\n",
        "#Kelime sözlükte var mı \n",
        "kontrol = arama in sozluk.keys()\n",
        "print(\"Sözlükte bu kelime var mı? \" + str(kontrol))\n",
        "\n",
        "#Girilen kelimenin açıklamasını yazdır \n",
        "print(sozluk[arama])"
      ]
    }
  ]
}